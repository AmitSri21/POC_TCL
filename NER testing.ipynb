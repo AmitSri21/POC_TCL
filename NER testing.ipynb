{
 "cells": [
  {
   "cell_type": "code",
   "execution_count": 25,
   "metadata": {
    "collapsed": true
   },
   "outputs": [],
   "source": [
    "import _pickle as cPickle\n",
    "import pickle"
   ]
  },
  {
   "cell_type": "code",
   "execution_count": 26,
   "metadata": {},
   "outputs": [],
   "source": [
    "convert_pdf_to_txt_loaded = pickle.load(open('convert_pdf_to_txt.pkl', 'rb'))"
   ]
  },
  {
   "cell_type": "code",
   "execution_count": 27,
   "metadata": {
    "collapsed": true
   },
   "outputs": [],
   "source": [
    "import os\n",
    "\n",
    "#Defining path\n",
    "java_path = r\"C:\\Program Files\\Java\\jre1.8.0_45\\bin\\javaw.exe\"\n",
    "os.environ['JAVAHOME'] = java_path"
   ]
  },
  {
   "cell_type": "code",
   "execution_count": 28,
   "metadata": {},
   "outputs": [],
   "source": [
    "str2 = convert_pdf_to_txt_loaded('test_invoice.pdf')"
   ]
  },
  {
   "cell_type": "code",
   "execution_count": 29,
   "metadata": {},
   "outputs": [],
   "source": [
    "import nltk\n",
    "from nltk.tag.stanford import StanfordNERTagger\n",
    "\n",
    "#Custom training module\n",
    "jar = r'C:\\Users\\soumyasreeb\\AnacondaProjects\\TCL\\Training\\stanford-ner.jar'\n",
    "model = r'C:\\Users\\soumyasreeb\\AnacondaProjects\\TCL\\Training\\tcl.crf.ser.gz'\n",
    "\n",
    "ner_tagger = StanfordNERTagger(model, jar)\n",
    "\n",
    "words = nltk.word_tokenize(str2)"
   ]
  },
  {
   "cell_type": "code",
   "execution_count": 30,
   "metadata": {
    "collapsed": true
   },
   "outputs": [],
   "source": [
    "Custom_NER_output = ner_tagger.tag(words)"
   ]
  },
  {
   "cell_type": "code",
   "execution_count": 31,
   "metadata": {},
   "outputs": [
    {
     "data": {
      "text/plain": [
       "[('25960959', 'INVOICE_NO'),\n",
       " ('05312018', 'INVOICE_DATE'),\n",
       " ('5866886', 'O'),\n",
       " ('06302018', 'O'),\n",
       " ('58-2421656', 'O'),\n",
       " ('$', 'CURR'),\n",
       " ('10,055.85', 'AMOUNT'),\n",
       " ('25960959', 'O'),\n",
       " ('5866886', 'O'),\n",
       " ('06302018', 'O'),\n",
       " ('$', 'O'),\n",
       " ('10,055.85', 'O'),\n",
       " ('Tata', 'O'),\n",
       " ('Communications', 'O'),\n",
       " ('America', 'O'),\n",
       " ('Inc', 'O'),\n",
       " ('The', 'O'),\n",
       " ('Accounts', 'O'),\n",
       " ('Payable', 'O'),\n",
       " ('Team', 'O'),\n",
       " ('2355', 'O'),\n",
       " ('Dulles', 'O'),\n",
       " ('Corner', 'O'),\n",
       " ('Blvd', 'O'),\n",
       " ('7th', 'O'),\n",
       " ('Floor', 'O'),\n",
       " ('Herndon', 'O'),\n",
       " (',', 'O'),\n",
       " ('VA', 'O'),\n",
       " ('20171', 'O'),\n",
       " ('USA', 'O'),\n",
       " ('05012018', 'O'),\n",
       " ('-', 'O'),\n",
       " ('05312018', 'O'),\n",
       " ('Original', 'O'),\n",
       " ('invoice', 'O'),\n",
       " ('total', 'O'),\n",
       " ('Universal', 'O'),\n",
       " ('Service', 'O'),\n",
       " ('Fund', 'O'),\n",
       " ('(', 'O'),\n",
       " ('USF', 'O'),\n",
       " (')', 'O'),\n",
       " ('Carrier', 'O'),\n",
       " ('Cost', 'O'),\n",
       " ('Recovery', 'O'),\n",
       " ('Fee', 'O'),\n",
       " ('$', 'O'),\n",
       " ('10,055.85', 'O'),\n",
       " ('$', 'O'),\n",
       " ('0.00', 'O'),\n",
       " ('$', 'O'),\n",
       " ('0.00', 'O'),\n",
       " ('Total', 'O'),\n",
       " ('charges', 'O'),\n",
       " ('for', 'O'),\n",
       " ('period', 'O'),\n",
       " ('$', 'O'),\n",
       " ('10,055.85', 'O'),\n",
       " ('Tata', 'O'),\n",
       " ('Communications', 'O'),\n",
       " ('America', 'O'),\n",
       " ('Inc', 'O'),\n",
       " ('The', 'O'),\n",
       " ('Accounts', 'O'),\n",
       " ('Payable', 'O'),\n",
       " ('Team', 'O'),\n",
       " ('2355', 'O'),\n",
       " ('Dulles', 'O'),\n",
       " ('Corner', 'O'),\n",
       " ('Blvd', 'O'),\n",
       " ('7th', 'O'),\n",
       " ('Floor', 'O'),\n",
       " ('Herndon', 'O'),\n",
       " (',', 'O'),\n",
       " ('VA', 'O'),\n",
       " ('20171', 'O'),\n",
       " ('USA', 'O')]"
      ]
     },
     "execution_count": 31,
     "metadata": {},
     "output_type": "execute_result"
    }
   ],
   "source": [
    "Custom_NER_output"
   ]
  },
  {
   "cell_type": "code",
   "execution_count": null,
   "metadata": {
    "collapsed": true
   },
   "outputs": [],
   "source": []
  }
 ],
 "metadata": {
  "kernelspec": {
   "display_name": "Python 3",
   "language": "python",
   "name": "python3"
  },
  "language_info": {
   "codemirror_mode": {
    "name": "ipython",
    "version": 3
   },
   "file_extension": ".py",
   "mimetype": "text/x-python",
   "name": "python",
   "nbconvert_exporter": "python",
   "pygments_lexer": "ipython3",
   "version": "3.6.2"
  }
 },
 "nbformat": 4,
 "nbformat_minor": 2
}
